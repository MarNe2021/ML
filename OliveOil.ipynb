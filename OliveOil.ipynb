{
 "cells": [
  {
   "cell_type": "markdown",
   "id": "06b67432-ae68-4347-a8ca-d76e60bb1112",
   "metadata": {},
   "source": [
    "# Olive Oil Analysis\n",
    "\n",
    "This data is from a paper by Forina, Armanino, Lanteri, Tiscornia (1983) Classification of Olive Oils from their Fatty Acid Composition, in Martens and Russwurm (ed) Food Research and Data Anlysis. \\\n",
    "Source: https://github.com/HadilHelali/olive-oil-classification/blob/main/olive_original.csv"
   ]
  },
  {
   "cell_type": "code",
   "execution_count": 2,
   "id": "b79fe92c-3434-4784-b584-a1005649a676",
   "metadata": {
    "tags": []
   },
   "outputs": [],
   "source": [
    "import numpy as np\n",
    "import pandas as pd\n",
    "import matplotlib.pyplot as plt"
   ]
  },
  {
   "cell_type": "code",
   "execution_count": 3,
   "id": "b7100a82-fda7-4e96-868c-a67be4cbe6af",
   "metadata": {
    "tags": []
   },
   "outputs": [
    {
     "name": "stdout",
     "output_type": "stream",
     "text": [
      "<class 'pandas.core.frame.DataFrame'>\n",
      "Index: 572 entries, 1 to 572\n",
      "Data columns (total 11 columns):\n",
      " #   Column       Non-Null Count  Dtype \n",
      "---  ------       --------------  ----- \n",
      " 0   Unnamed: 0   572 non-null    object\n",
      " 1   Region       572 non-null    int64 \n",
      " 2   Area         572 non-null    int64 \n",
      " 3   palmitic     572 non-null    int64 \n",
      " 4   palmitoleic  572 non-null    int64 \n",
      " 5   stearic      572 non-null    int64 \n",
      " 6   oleic        572 non-null    int64 \n",
      " 7   linoleic     572 non-null    int64 \n",
      " 8   linolenic    572 non-null    int64 \n",
      " 9   arachidic    572 non-null    int64 \n",
      " 10  eicosenoic   572 non-null    int64 \n",
      "dtypes: int64(10), object(1)\n",
      "memory usage: 53.6+ KB\n"
     ]
    }
   ],
   "source": [
    "url = \"https://raw.githubusercontent.com/HadilHelali/olive-oil-classification/main/olive_original.csv\"\n",
    "data = pd.read_csv(url)\n",
    "data.info()"
   ]
  },
  {
   "cell_type": "code",
   "execution_count": 4,
   "id": "bfeb51ce-29e9-436d-8b25-89c03ca0231f",
   "metadata": {
    "tags": []
   },
   "outputs": [
    {
     "data": {
      "text/html": [
       "<div>\n",
       "<style scoped>\n",
       "    .dataframe tbody tr th:only-of-type {\n",
       "        vertical-align: middle;\n",
       "    }\n",
       "\n",
       "    .dataframe tbody tr th {\n",
       "        vertical-align: top;\n",
       "    }\n",
       "\n",
       "    .dataframe thead th {\n",
       "        text-align: right;\n",
       "    }\n",
       "</style>\n",
       "<table border=\"1\" class=\"dataframe\">\n",
       "  <thead>\n",
       "    <tr style=\"text-align: right;\">\n",
       "      <th></th>\n",
       "      <th>Unnamed: 0</th>\n",
       "      <th>Region</th>\n",
       "      <th>Area</th>\n",
       "      <th>palmitic</th>\n",
       "      <th>palmitoleic</th>\n",
       "      <th>stearic</th>\n",
       "      <th>oleic</th>\n",
       "      <th>linoleic</th>\n",
       "      <th>linolenic</th>\n",
       "      <th>arachidic</th>\n",
       "      <th>eicosenoic</th>\n",
       "    </tr>\n",
       "  </thead>\n",
       "  <tbody>\n",
       "    <tr>\n",
       "      <th>1</th>\n",
       "      <td>North-Apulia</td>\n",
       "      <td>1</td>\n",
       "      <td>1</td>\n",
       "      <td>1075</td>\n",
       "      <td>75</td>\n",
       "      <td>226</td>\n",
       "      <td>7823</td>\n",
       "      <td>672</td>\n",
       "      <td>36</td>\n",
       "      <td>60</td>\n",
       "      <td>29</td>\n",
       "    </tr>\n",
       "    <tr>\n",
       "      <th>2</th>\n",
       "      <td>North-Apulia</td>\n",
       "      <td>1</td>\n",
       "      <td>1</td>\n",
       "      <td>1088</td>\n",
       "      <td>73</td>\n",
       "      <td>224</td>\n",
       "      <td>7709</td>\n",
       "      <td>781</td>\n",
       "      <td>31</td>\n",
       "      <td>61</td>\n",
       "      <td>29</td>\n",
       "    </tr>\n",
       "    <tr>\n",
       "      <th>3</th>\n",
       "      <td>North-Apulia</td>\n",
       "      <td>1</td>\n",
       "      <td>1</td>\n",
       "      <td>911</td>\n",
       "      <td>54</td>\n",
       "      <td>246</td>\n",
       "      <td>8113</td>\n",
       "      <td>549</td>\n",
       "      <td>31</td>\n",
       "      <td>63</td>\n",
       "      <td>29</td>\n",
       "    </tr>\n",
       "    <tr>\n",
       "      <th>4</th>\n",
       "      <td>North-Apulia</td>\n",
       "      <td>1</td>\n",
       "      <td>1</td>\n",
       "      <td>966</td>\n",
       "      <td>57</td>\n",
       "      <td>240</td>\n",
       "      <td>7952</td>\n",
       "      <td>619</td>\n",
       "      <td>50</td>\n",
       "      <td>78</td>\n",
       "      <td>35</td>\n",
       "    </tr>\n",
       "    <tr>\n",
       "      <th>5</th>\n",
       "      <td>North-Apulia</td>\n",
       "      <td>1</td>\n",
       "      <td>1</td>\n",
       "      <td>1051</td>\n",
       "      <td>67</td>\n",
       "      <td>259</td>\n",
       "      <td>7771</td>\n",
       "      <td>672</td>\n",
       "      <td>50</td>\n",
       "      <td>80</td>\n",
       "      <td>46</td>\n",
       "    </tr>\n",
       "  </tbody>\n",
       "</table>\n",
       "</div>"
      ],
      "text/plain": [
       "     Unnamed: 0  Region  Area  palmitic  palmitoleic  stearic  oleic  \\\n",
       "1  North-Apulia       1     1      1075           75      226   7823   \n",
       "2  North-Apulia       1     1      1088           73      224   7709   \n",
       "3  North-Apulia       1     1       911           54      246   8113   \n",
       "4  North-Apulia       1     1       966           57      240   7952   \n",
       "5  North-Apulia       1     1      1051           67      259   7771   \n",
       "\n",
       "   linoleic  linolenic  arachidic  eicosenoic  \n",
       "1       672         36         60          29  \n",
       "2       781         31         61          29  \n",
       "3       549         31         63          29  \n",
       "4       619         50         78          35  \n",
       "5       672         50         80          46  "
      ]
     },
     "execution_count": 4,
     "metadata": {},
     "output_type": "execute_result"
    }
   ],
   "source": [
    "data.head()"
   ]
  },
  {
   "cell_type": "code",
   "execution_count": 5,
   "id": "3df771d4-31a3-41a3-bb17-ef0cbfe646b4",
   "metadata": {
    "tags": []
   },
   "outputs": [],
   "source": [
    "data.rename(columns={'Unnamed: 0' : 'Name'}, inplace=True)"
   ]
  },
  {
   "cell_type": "markdown",
   "id": "5aabbc28-8013-40c1-b60a-d3e66324e25b",
   "metadata": {},
   "source": [
    "# Data exploration"
   ]
  },
  {
   "cell_type": "code",
   "execution_count": 7,
   "id": "2ec54789-92f6-47f2-b038-c7cbcd23cb52",
   "metadata": {
    "tags": []
   },
   "outputs": [
    {
     "data": {
      "text/plain": [
       "Area\n",
       "1        25\n",
       "2        56\n",
       "3       206\n",
       "4        36\n",
       "5        65\n",
       "6        33\n",
       "7        50\n",
       "8        50\n",
       "9        51\n",
       "Name: count, dtype: int64"
      ]
     },
     "execution_count": 7,
     "metadata": {},
     "output_type": "execute_result"
    }
   ],
   "source": [
    "df_count = data[['Area']].sort_values(['Area']).value_counts().sort_index()\n",
    "df_count"
   ]
  },
  {
   "cell_type": "code",
   "execution_count": 8,
   "id": "9ded5afe-6580-49ed-a625-e811c6d0f65f",
   "metadata": {
    "tags": []
   },
   "outputs": [
    {
     "data": {
      "text/html": [
       "<div>\n",
       "<style scoped>\n",
       "    .dataframe tbody tr th:only-of-type {\n",
       "        vertical-align: middle;\n",
       "    }\n",
       "\n",
       "    .dataframe tbody tr th {\n",
       "        vertical-align: top;\n",
       "    }\n",
       "\n",
       "    .dataframe thead th {\n",
       "        text-align: right;\n",
       "    }\n",
       "</style>\n",
       "<table border=\"1\" class=\"dataframe\">\n",
       "  <thead>\n",
       "    <tr style=\"text-align: right;\">\n",
       "      <th></th>\n",
       "      <th></th>\n",
       "      <th></th>\n",
       "      <th>count</th>\n",
       "      <th>palmitic</th>\n",
       "      <th>palmitoleic</th>\n",
       "      <th>stearic</th>\n",
       "      <th>oleic</th>\n",
       "      <th>linoleic</th>\n",
       "      <th>linolenic</th>\n",
       "      <th>arachidic</th>\n",
       "      <th>eicosenoic</th>\n",
       "    </tr>\n",
       "    <tr>\n",
       "      <th>Name</th>\n",
       "      <th>Region</th>\n",
       "      <th>Area</th>\n",
       "      <th></th>\n",
       "      <th></th>\n",
       "      <th></th>\n",
       "      <th></th>\n",
       "      <th></th>\n",
       "      <th></th>\n",
       "      <th></th>\n",
       "      <th></th>\n",
       "      <th></th>\n",
       "    </tr>\n",
       "  </thead>\n",
       "  <tbody>\n",
       "    <tr>\n",
       "      <th>North-Apulia</th>\n",
       "      <th>1</th>\n",
       "      <th>1</th>\n",
       "      <td>25</td>\n",
       "      <td>1027.00</td>\n",
       "      <td>61.60</td>\n",
       "      <td>234.84</td>\n",
       "      <td>7820.40</td>\n",
       "      <td>705.84</td>\n",
       "      <td>42.56</td>\n",
       "      <td>71.96</td>\n",
       "      <td>34.56</td>\n",
       "    </tr>\n",
       "    <tr>\n",
       "      <th>Calabria</th>\n",
       "      <th>1</th>\n",
       "      <th>2</th>\n",
       "      <td>56</td>\n",
       "      <td>1302.23</td>\n",
       "      <td>121.36</td>\n",
       "      <td>262.52</td>\n",
       "      <td>7307.18</td>\n",
       "      <td>819.00</td>\n",
       "      <td>45.57</td>\n",
       "      <td>63.62</td>\n",
       "      <td>28.32</td>\n",
       "    </tr>\n",
       "    <tr>\n",
       "      <th>South-Apulia</th>\n",
       "      <th>1</th>\n",
       "      <th>3</th>\n",
       "      <td>206</td>\n",
       "      <td>1395.67</td>\n",
       "      <td>183.92</td>\n",
       "      <td>210.98</td>\n",
       "      <td>6911.21</td>\n",
       "      <td>1166.31</td>\n",
       "      <td>34.71</td>\n",
       "      <td>59.73</td>\n",
       "      <td>24.23</td>\n",
       "    </tr>\n",
       "    <tr>\n",
       "      <th>Sicily</th>\n",
       "      <th>1</th>\n",
       "      <th>4</th>\n",
       "      <td>36</td>\n",
       "      <td>1228.36</td>\n",
       "      <td>104.92</td>\n",
       "      <td>273.89</td>\n",
       "      <td>7357.83</td>\n",
       "      <td>834.72</td>\n",
       "      <td>42.47</td>\n",
       "      <td>75.56</td>\n",
       "      <td>38.44</td>\n",
       "    </tr>\n",
       "    <tr>\n",
       "      <th>Inland-Sardinia</th>\n",
       "      <th>2</th>\n",
       "      <th>5</th>\n",
       "      <td>65</td>\n",
       "      <td>1097.72</td>\n",
       "      <td>94.55</td>\n",
       "      <td>217.23</td>\n",
       "      <td>7360.54</td>\n",
       "      <td>1125.08</td>\n",
       "      <td>28.78</td>\n",
       "      <td>73.78</td>\n",
       "      <td>1.97</td>\n",
       "    </tr>\n",
       "    <tr>\n",
       "      <th>Coast-Sardinia</th>\n",
       "      <th>2</th>\n",
       "      <th>6</th>\n",
       "      <td>33</td>\n",
       "      <td>1138.18</td>\n",
       "      <td>101.06</td>\n",
       "      <td>243.82</td>\n",
       "      <td>7085.79</td>\n",
       "      <td>1337.27</td>\n",
       "      <td>23.76</td>\n",
       "      <td>71.97</td>\n",
       "      <td>1.88</td>\n",
       "    </tr>\n",
       "    <tr>\n",
       "      <th>East-Liguria</th>\n",
       "      <th>3</th>\n",
       "      <th>7</th>\n",
       "      <td>50</td>\n",
       "      <td>1145.40</td>\n",
       "      <td>84.20</td>\n",
       "      <td>241.40</td>\n",
       "      <td>7746.00</td>\n",
       "      <td>689.40</td>\n",
       "      <td>26.40</td>\n",
       "      <td>63.60</td>\n",
       "      <td>1.88</td>\n",
       "    </tr>\n",
       "    <tr>\n",
       "      <th>West-Liguria</th>\n",
       "      <th>3</th>\n",
       "      <th>8</th>\n",
       "      <td>50</td>\n",
       "      <td>1052.80</td>\n",
       "      <td>107.60</td>\n",
       "      <td>257.40</td>\n",
       "      <td>7674.20</td>\n",
       "      <td>897.20</td>\n",
       "      <td>4.60</td>\n",
       "      <td>6.60</td>\n",
       "      <td>2.06</td>\n",
       "    </tr>\n",
       "    <tr>\n",
       "      <th>Umbria</th>\n",
       "      <th>3</th>\n",
       "      <th>9</th>\n",
       "      <td>51</td>\n",
       "      <td>1086.37</td>\n",
       "      <td>59.88</td>\n",
       "      <td>194.33</td>\n",
       "      <td>7955.71</td>\n",
       "      <td>597.10</td>\n",
       "      <td>34.12</td>\n",
       "      <td>42.43</td>\n",
       "      <td>1.98</td>\n",
       "    </tr>\n",
       "  </tbody>\n",
       "</table>\n",
       "</div>"
      ],
      "text/plain": [
       "                             count  palmitic  palmitoleic  stearic    oleic  \\\n",
       "Name            Region Area                                                   \n",
       "North-Apulia    1      1        25   1027.00        61.60   234.84  7820.40   \n",
       "Calabria        1      2        56   1302.23       121.36   262.52  7307.18   \n",
       "South-Apulia    1      3       206   1395.67       183.92   210.98  6911.21   \n",
       "Sicily          1      4        36   1228.36       104.92   273.89  7357.83   \n",
       "Inland-Sardinia 2      5        65   1097.72        94.55   217.23  7360.54   \n",
       "Coast-Sardinia  2      6        33   1138.18       101.06   243.82  7085.79   \n",
       "East-Liguria    3      7        50   1145.40        84.20   241.40  7746.00   \n",
       "West-Liguria    3      8        50   1052.80       107.60   257.40  7674.20   \n",
       "Umbria          3      9        51   1086.37        59.88   194.33  7955.71   \n",
       "\n",
       "                             linoleic  linolenic  arachidic  eicosenoic  \n",
       "Name            Region Area                                              \n",
       "North-Apulia    1      1       705.84      42.56      71.96       34.56  \n",
       "Calabria        1      2       819.00      45.57      63.62       28.32  \n",
       "South-Apulia    1      3      1166.31      34.71      59.73       24.23  \n",
       "Sicily          1      4       834.72      42.47      75.56       38.44  \n",
       "Inland-Sardinia 2      5      1125.08      28.78      73.78        1.97  \n",
       "Coast-Sardinia  2      6      1337.27      23.76      71.97        1.88  \n",
       "East-Liguria    3      7       689.40      26.40      63.60        1.88  \n",
       "West-Liguria    3      8       897.20       4.60       6.60        2.06  \n",
       "Umbria          3      9       597.10      34.12      42.43        1.98  "
      ]
     },
     "execution_count": 8,
     "metadata": {},
     "output_type": "execute_result"
    }
   ],
   "source": [
    "df_group = data.groupby(['Name', 'Region', 'Area']).mean().round(2).sort_values(['Region', 'Area'])\n",
    "df = df_group.assign(count= df_count.values)\n",
    "df = df[[df.columns[-1]] + df.columns[:-1].to_list()]\n",
    "df"
   ]
  },
  {
   "cell_type": "code",
   "execution_count": 9,
   "id": "4859e2a3-6085-4a72-892b-3c7418c8d921",
   "metadata": {
    "tags": []
   },
   "outputs": [
    {
     "data": {
      "image/png": "[encoded data removed]",
      "text/plain": [
       "<Figure size 1400x700 with 8 Axes>"
      ]
     },
     "metadata": {},
     "output_type": "display_data"
    }
   ],
   "source": [
    "fig, axs = plt.subplots(2,4, figsize=(14,7))\n",
    "fig.tight_layout(h_pad=4.0)\n",
    "\n",
    "cols = data.columns[3:]\n",
    "\n",
    "r1_values = data.where(data.Region == 1).dropna()\n",
    "r2_values = data.where(data.Region == 2).dropna()\n",
    "r3_values = data.where(data.Region == 3).dropna()\n",
    "\n",
    "for idx,c in enumerate(cols):\n",
    "    val_r1 = r1_values[c]\n",
    "    val_r2 = r2_values[c]\n",
    "    val_r3 = r3_values[c]\n",
    "    axs[idx//4, idx%4].violinplot([val_r1, val_r2, val_r3], showmedians=True)\n",
    "    axs[idx//4, idx%4].set_title(f\"{c}\")\n",
    "    axs[idx//4, idx%4].set_xticks(range(1,4), labels=[\"Region 1\", \"Region 2\", \"Region 3\"])\n",
    "    "
   ]
  },
  {
   "cell_type": "markdown",
   "id": "ac7da312-c6f7-458f-bfad-da9143c2a89d",
   "metadata": {},
   "source": [
    "# Data preparation"
   ]
  },
  {
   "cell_type": "code",
   "execution_count": 11,
   "id": "1ff4b5b7-2395-4c2f-9d8a-07e0169581c9",
   "metadata": {
    "tags": []
   },
   "outputs": [],
   "source": [
    "from sklearn.model_selection import train_test_split\n",
    "from sklearn.preprocessing import MinMaxScaler"
   ]
  },
  {
   "cell_type": "code",
   "execution_count": 12,
   "id": "3f3b7e95-6f50-4c7c-874b-f09b4f589036",
   "metadata": {
    "tags": []
   },
   "outputs": [],
   "source": [
    "X_train, X_test, y_train, y_test = train_test_split(data[cols], data.Region, test_size=0.2, random_state=42, stratify=data.Region)"
   ]
  },
  {
   "cell_type": "code",
   "execution_count": 13,
   "id": "73f6c51a-3e46-432e-ba49-02f3ca1e264d",
   "metadata": {
    "tags": []
   },
   "outputs": [
    {
     "data": {
      "text/html": [
       "<div>\n",
       "<style scoped>\n",
       "    .dataframe tbody tr th:only-of-type {\n",
       "        vertical-align: middle;\n",
       "    }\n",
       "\n",
       "    .dataframe tbody tr th {\n",
       "        vertical-align: top;\n",
       "    }\n",
       "\n",
       "    .dataframe thead th {\n",
       "        text-align: right;\n",
       "    }\n",
       "</style>\n",
       "<table border=\"1\" class=\"dataframe\">\n",
       "  <thead>\n",
       "    <tr style=\"text-align: right;\">\n",
       "      <th></th>\n",
       "      <th>palmitic</th>\n",
       "      <th>palmitoleic</th>\n",
       "      <th>stearic</th>\n",
       "      <th>oleic</th>\n",
       "      <th>linoleic</th>\n",
       "      <th>linolenic</th>\n",
       "      <th>arachidic</th>\n",
       "      <th>eicosenoic</th>\n",
       "    </tr>\n",
       "  </thead>\n",
       "  <tbody>\n",
       "    <tr>\n",
       "      <th>58</th>\n",
       "      <td>1261</td>\n",
       "      <td>153</td>\n",
       "      <td>219</td>\n",
       "      <td>7355</td>\n",
       "      <td>818</td>\n",
       "      <td>52</td>\n",
       "      <td>70</td>\n",
       "      <td>26</td>\n",
       "    </tr>\n",
       "    <tr>\n",
       "      <th>172</th>\n",
       "      <td>1413</td>\n",
       "      <td>191</td>\n",
       "      <td>186</td>\n",
       "      <td>6937</td>\n",
       "      <td>1180</td>\n",
       "      <td>31</td>\n",
       "      <td>46</td>\n",
       "      <td>13</td>\n",
       "    </tr>\n",
       "    <tr>\n",
       "      <th>552</th>\n",
       "      <td>1020</td>\n",
       "      <td>90</td>\n",
       "      <td>260</td>\n",
       "      <td>7620</td>\n",
       "      <td>1010</td>\n",
       "      <td>0</td>\n",
       "      <td>0</td>\n",
       "      <td>3</td>\n",
       "    </tr>\n",
       "    <tr>\n",
       "      <th>7</th>\n",
       "      <td>922</td>\n",
       "      <td>66</td>\n",
       "      <td>264</td>\n",
       "      <td>7990</td>\n",
       "      <td>618</td>\n",
       "      <td>49</td>\n",
       "      <td>56</td>\n",
       "      <td>29</td>\n",
       "    </tr>\n",
       "    <tr>\n",
       "      <th>551</th>\n",
       "      <td>1020</td>\n",
       "      <td>90</td>\n",
       "      <td>350</td>\n",
       "      <td>7620</td>\n",
       "      <td>920</td>\n",
       "      <td>10</td>\n",
       "      <td>0</td>\n",
       "      <td>3</td>\n",
       "    </tr>\n",
       "    <tr>\n",
       "      <th>...</th>\n",
       "      <td>...</td>\n",
       "      <td>...</td>\n",
       "      <td>...</td>\n",
       "      <td>...</td>\n",
       "      <td>...</td>\n",
       "      <td>...</td>\n",
       "      <td>...</td>\n",
       "      <td>...</td>\n",
       "    </tr>\n",
       "    <tr>\n",
       "      <th>407</th>\n",
       "      <td>1110</td>\n",
       "      <td>91</td>\n",
       "      <td>201</td>\n",
       "      <td>7318</td>\n",
       "      <td>1185</td>\n",
       "      <td>24</td>\n",
       "      <td>74</td>\n",
       "      <td>2</td>\n",
       "    </tr>\n",
       "    <tr>\n",
       "      <th>99</th>\n",
       "      <td>1311</td>\n",
       "      <td>166</td>\n",
       "      <td>170</td>\n",
       "      <td>6902</td>\n",
       "      <td>1312</td>\n",
       "      <td>41</td>\n",
       "      <td>69</td>\n",
       "      <td>28</td>\n",
       "    </tr>\n",
       "    <tr>\n",
       "      <th>368</th>\n",
       "      <td>1076</td>\n",
       "      <td>95</td>\n",
       "      <td>204</td>\n",
       "      <td>7408</td>\n",
       "      <td>1130</td>\n",
       "      <td>27</td>\n",
       "      <td>79</td>\n",
       "      <td>2</td>\n",
       "    </tr>\n",
       "    <tr>\n",
       "      <th>156</th>\n",
       "      <td>1451</td>\n",
       "      <td>199</td>\n",
       "      <td>221</td>\n",
       "      <td>6835</td>\n",
       "      <td>1177</td>\n",
       "      <td>37</td>\n",
       "      <td>51</td>\n",
       "      <td>29</td>\n",
       "    </tr>\n",
       "    <tr>\n",
       "      <th>484</th>\n",
       "      <td>1180</td>\n",
       "      <td>100</td>\n",
       "      <td>190</td>\n",
       "      <td>7520</td>\n",
       "      <td>820</td>\n",
       "      <td>50</td>\n",
       "      <td>100</td>\n",
       "      <td>1</td>\n",
       "    </tr>\n",
       "  </tbody>\n",
       "</table>\n",
       "<p>457 rows × 8 columns</p>\n",
       "</div>"
      ],
      "text/plain": [
       "     palmitic  palmitoleic  stearic  oleic  linoleic  linolenic  arachidic  \\\n",
       "58       1261          153      219   7355       818         52         70   \n",
       "172      1413          191      186   6937      1180         31         46   \n",
       "552      1020           90      260   7620      1010          0          0   \n",
       "7         922           66      264   7990       618         49         56   \n",
       "551      1020           90      350   7620       920         10          0   \n",
       "..        ...          ...      ...    ...       ...        ...        ...   \n",
       "407      1110           91      201   7318      1185         24         74   \n",
       "99       1311          166      170   6902      1312         41         69   \n",
       "368      1076           95      204   7408      1130         27         79   \n",
       "156      1451          199      221   6835      1177         37         51   \n",
       "484      1180          100      190   7520       820         50        100   \n",
       "\n",
       "     eicosenoic  \n",
       "58           26  \n",
       "172          13  \n",
       "552           3  \n",
       "7            29  \n",
       "551           3  \n",
       "..          ...  \n",
       "407           2  \n",
       "99           28  \n",
       "368           2  \n",
       "156          29  \n",
       "484           1  \n",
       "\n",
       "[457 rows x 8 columns]"
      ]
     },
     "execution_count": 13,
     "metadata": {},
     "output_type": "execute_result"
    }
   ],
   "source": [
    "X_train"
   ]
  },
  {
   "cell_type": "code",
   "execution_count": 14,
   "id": "76d355fd-abf0-4894-856e-009e1f63400a",
   "metadata": {
    "tags": []
   },
   "outputs": [
    {
     "data": {
      "text/plain": [
       "1    0.564551\n",
       "2    0.170678\n",
       "3    0.264770\n",
       "Name: Region, dtype: float64"
      ]
     },
     "execution_count": 14,
     "metadata": {},
     "output_type": "execute_result"
    }
   ],
   "source": [
    "y_train.groupby(y_train.values).count()/y_train.count()"
   ]
  },
  {
   "cell_type": "code",
   "execution_count": 15,
   "id": "0a895070-3e05-44c6-a258-3d5ff7f3024d",
   "metadata": {
    "tags": []
   },
   "outputs": [
    {
     "data": {
      "text/plain": [
       "1    0.565217\n",
       "2    0.173913\n",
       "3    0.260870\n",
       "Name: Region, dtype: float64"
      ]
     },
     "execution_count": 15,
     "metadata": {},
     "output_type": "execute_result"
    }
   ],
   "source": [
    "y_test.groupby(y_test.values).count()/y_test.count()"
   ]
  },
  {
   "cell_type": "code",
   "execution_count": 16,
   "id": "4455faa4-3108-478a-88ff-3cf54af3b2fc",
   "metadata": {
    "tags": []
   },
   "outputs": [
    {
     "data": {
      "text/plain": [
       "(457, 115)"
      ]
     },
     "execution_count": 16,
     "metadata": {},
     "output_type": "execute_result"
    }
   ],
   "source": [
    "y_train.count(), y_test.count()"
   ]
  },
  {
   "cell_type": "code",
   "execution_count": 17,
   "id": "8828c556-8a73-4ed7-8db4-95799f7f8dbb",
   "metadata": {
    "tags": []
   },
   "outputs": [
    {
     "data": {
      "text/html": [
       "<style>#sk-container-id-1 {color: black;background-color: white;}#sk-container-id-1 pre{padding: 0;}#sk-container-id-1 div.sk-toggleable {background-color: white;}#sk-container-id-1 label.sk-toggleable__label {cursor: pointer;display: block;width: 100%;margin-bottom: 0;padding: 0.3em;box-sizing: border-box;text-align: center;}#sk-container-id-1 label.sk-toggleable__label-arrow:before {content: \"▸\";float: left;margin-right: 0.25em;color: #696969;}#sk-container-id-1 label.sk-toggleable__label-arrow:hover:before {color: black;}#sk-container-id-1 div.sk-estimator:hover label.sk-toggleable__label-arrow:before {color: black;}#sk-container-id-1 div.sk-toggleable__content {max-height: 0;max-width: 0;overflow: hidden;text-align: left;background-color: #f0f8ff;}#sk-container-id-1 div.sk-toggleable__content pre {margin: 0.2em;color: black;border-radius: 0.25em;background-color: #f0f8ff;}#sk-container-id-1 input.sk-toggleable__control:checked~div.sk-toggleable__content {max-height: 200px;max-width: 100%;overflow: auto;}#sk-container-id-1 input.sk-toggleable__control:checked~label.sk-toggleable__label-arrow:before {content: \"▾\";}#sk-container-id-1 div.sk-estimator input.sk-toggleable__control:checked~label.sk-toggleable__label {background-color: #d4ebff;}#sk-container-id-1 div.sk-label input.sk-toggleable__control:checked~label.sk-toggleable__label {background-color: #d4ebff;}#sk-container-id-1 input.sk-hidden--visually {border: 0;clip: rect(1px 1px 1px 1px);clip: rect(1px, 1px, 1px, 1px);height: 1px;margin: -1px;overflow: hidden;padding: 0;position: absolute;width: 1px;}#sk-container-id-1 div.sk-estimator {font-family: monospace;background-color: #f0f8ff;border: 1px dotted black;border-radius: 0.25em;box-sizing: border-box;margin-bottom: 0.5em;}#sk-container-id-1 div.sk-estimator:hover {background-color: #d4ebff;}#sk-container-id-1 div.sk-parallel-item::after {content: \"\";width: 100%;border-bottom: 1px solid gray;flex-grow: 1;}#sk-container-id-1 div.sk-label:hover label.sk-toggleable__label {background-color: #d4ebff;}#sk-container-id-1 div.sk-serial::before {content: \"\";position: absolute;border-left: 1px solid gray;box-sizing: border-box;top: 0;bottom: 0;left: 50%;z-index: 0;}#sk-container-id-1 div.sk-serial {display: flex;flex-direction: column;align-items: center;background-color: white;padding-right: 0.2em;padding-left: 0.2em;position: relative;}#sk-container-id-1 div.sk-item {position: relative;z-index: 1;}#sk-container-id-1 div.sk-parallel {display: flex;align-items: stretch;justify-content: center;background-color: white;position: relative;}#sk-container-id-1 div.sk-item::before, #sk-container-id-1 div.sk-parallel-item::before {content: \"\";position: absolute;border-left: 1px solid gray;box-sizing: border-box;top: 0;bottom: 0;left: 50%;z-index: -1;}#sk-container-id-1 div.sk-parallel-item {display: flex;flex-direction: column;z-index: 1;position: relative;background-color: white;}#sk-container-id-1 div.sk-parallel-item:first-child::after {align-self: flex-end;width: 50%;}#sk-container-id-1 div.sk-parallel-item:last-child::after {align-self: flex-start;width: 50%;}#sk-container-id-1 div.sk-parallel-item:only-child::after {width: 0;}#sk-container-id-1 div.sk-dashed-wrapped {border: 1px dashed gray;margin: 0 0.4em 0.5em 0.4em;box-sizing: border-box;padding-bottom: 0.4em;background-color: white;}#sk-container-id-1 div.sk-label label {font-family: monospace;font-weight: bold;display: inline-block;line-height: 1.2em;}#sk-container-id-1 div.sk-label-container {text-align: center;}#sk-container-id-1 div.sk-container {/* jupyter's `normalize.less` sets `[hidden] { display: none; }` but bootstrap.min.css set `[hidden] { display: none !important; }` so we also need the `!important` here to be able to override the default hidden behavior on the sphinx rendered scikit-learn.org. See: https://github.com/scikit-learn/scikit-learn/issues/21755 */display: inline-block !important;position: relative;}#sk-container-id-1 div.sk-text-repr-fallback {display: none;}</style><div id=\"sk-container-id-1\" class=\"sk-top-container\"><div class=\"sk-text-repr-fallback\"><pre>MinMaxScaler()</pre><b>In a Jupyter environment, please rerun this cell to show the HTML representation or trust the notebook. <br />On GitHub, the HTML representation is unable to render, please try loading this page with nbviewer.org.</b></div><div class=\"sk-container\" hidden><div class=\"sk-item\"><div class=\"sk-estimator sk-toggleable\"><input class=\"sk-toggleable__control sk-hidden--visually\" id=\"sk-estimator-id-1\" type=\"checkbox\" checked><label for=\"sk-estimator-id-1\" class=\"sk-toggleable__label sk-toggleable__label-arrow\">MinMaxScaler</label><div class=\"sk-toggleable__content\"><pre>MinMaxScaler()</pre></div></div></div></div></div>"
      ],
      "text/plain": [
       "MinMaxScaler()"
      ]
     },
     "execution_count": 17,
     "metadata": {},
     "output_type": "execute_result"
    }
   ],
   "source": [
    "scaler = MinMaxScaler()\n",
    "scaler.fit(X_train.values)"
   ]
  },
  {
   "cell_type": "code",
   "execution_count": 18,
   "id": "9b2bb202-a7c0-414d-b9e7-c64181a2a371",
   "metadata": {
    "tags": []
   },
   "outputs": [
    {
     "data": {
      "text/plain": [
       "array([[0.41981132, 0.52075472, 0.30044843, ..., 0.7027027 , 0.66666667,\n",
       "        0.45454545],\n",
       "       [0.5990566 , 0.66415094, 0.15246637, ..., 0.41891892, 0.43809524,\n",
       "        0.21818182],\n",
       "       [0.13561321, 0.28301887, 0.48430493, ..., 0.        , 0.        ,\n",
       "        0.03636364],\n",
       "       ...,\n",
       "       [0.20165094, 0.30188679, 0.23318386, ..., 0.36486486, 0.75238095,\n",
       "        0.01818182],\n",
       "       [0.64386792, 0.69433962, 0.30941704, ..., 0.5       , 0.48571429,\n",
       "        0.50909091],\n",
       "       [0.32429245, 0.32075472, 0.17040359, ..., 0.67567568, 0.95238095,\n",
       "        0.        ]])"
      ]
     },
     "execution_count": 18,
     "metadata": {},
     "output_type": "execute_result"
    }
   ],
   "source": [
    "scX_train = scaler.transform(X_train.values)\n",
    "scX_train"
   ]
  },
  {
   "cell_type": "markdown",
   "id": "81aa3365-9ab3-4255-8d4c-434fa2162535",
   "metadata": {},
   "source": [
    "# Modelling"
   ]
  },
  {
   "cell_type": "code",
   "execution_count": 20,
   "id": "f15d5751-92aa-43cc-a936-55bdc56a2049",
   "metadata": {
    "tags": []
   },
   "outputs": [],
   "source": [
    "from sklearn.linear_model import LogisticRegression\n",
    "from sklearn.metrics import confusion_matrix, ConfusionMatrixDisplay"
   ]
  },
  {
   "cell_type": "code",
   "execution_count": 21,
   "id": "dd5ed9e3-e12f-4173-b5f5-72be633f10f4",
   "metadata": {
    "tags": []
   },
   "outputs": [
    {
     "data": {
      "text/html": [
       "<style>#sk-container-id-2 {color: black;background-color: white;}#sk-container-id-2 pre{padding: 0;}#sk-container-id-2 div.sk-toggleable {background-color: white;}#sk-container-id-2 label.sk-toggleable__label {cursor: pointer;display: block;width: 100%;margin-bottom: 0;padding: 0.3em;box-sizing: border-box;text-align: center;}#sk-container-id-2 label.sk-toggleable__label-arrow:before {content: \"▸\";float: left;margin-right: 0.25em;color: #696969;}#sk-container-id-2 label.sk-toggleable__label-arrow:hover:before {color: black;}#sk-container-id-2 div.sk-estimator:hover label.sk-toggleable__label-arrow:before {color: black;}#sk-container-id-2 div.sk-toggleable__content {max-height: 0;max-width: 0;overflow: hidden;text-align: left;background-color: #f0f8ff;}#sk-container-id-2 div.sk-toggleable__content pre {margin: 0.2em;color: black;border-radius: 0.25em;background-color: #f0f8ff;}#sk-container-id-2 input.sk-toggleable__control:checked~div.sk-toggleable__content {max-height: 200px;max-width: 100%;overflow: auto;}#sk-container-id-2 input.sk-toggleable__control:checked~label.sk-toggleable__label-arrow:before {content: \"▾\";}#sk-container-id-2 div.sk-estimator input.sk-toggleable__control:checked~label.sk-toggleable__label {background-color: #d4ebff;}#sk-container-id-2 div.sk-label input.sk-toggleable__control:checked~label.sk-toggleable__label {background-color: #d4ebff;}#sk-container-id-2 input.sk-hidden--visually {border: 0;clip: rect(1px 1px 1px 1px);clip: rect(1px, 1px, 1px, 1px);height: 1px;margin: -1px;overflow: hidden;padding: 0;position: absolute;width: 1px;}#sk-container-id-2 div.sk-estimator {font-family: monospace;background-color: #f0f8ff;border: 1px dotted black;border-radius: 0.25em;box-sizing: border-box;margin-bottom: 0.5em;}#sk-container-id-2 div.sk-estimator:hover {background-color: #d4ebff;}#sk-container-id-2 div.sk-parallel-item::after {content: \"\";width: 100%;border-bottom: 1px solid gray;flex-grow: 1;}#sk-container-id-2 div.sk-label:hover label.sk-toggleable__label {background-color: #d4ebff;}#sk-container-id-2 div.sk-serial::before {content: \"\";position: absolute;border-left: 1px solid gray;box-sizing: border-box;top: 0;bottom: 0;left: 50%;z-index: 0;}#sk-container-id-2 div.sk-serial {display: flex;flex-direction: column;align-items: center;background-color: white;padding-right: 0.2em;padding-left: 0.2em;position: relative;}#sk-container-id-2 div.sk-item {position: relative;z-index: 1;}#sk-container-id-2 div.sk-parallel {display: flex;align-items: stretch;justify-content: center;background-color: white;position: relative;}#sk-container-id-2 div.sk-item::before, #sk-container-id-2 div.sk-parallel-item::before {content: \"\";position: absolute;border-left: 1px solid gray;box-sizing: border-box;top: 0;bottom: 0;left: 50%;z-index: -1;}#sk-container-id-2 div.sk-parallel-item {display: flex;flex-direction: column;z-index: 1;position: relative;background-color: white;}#sk-container-id-2 div.sk-parallel-item:first-child::after {align-self: flex-end;width: 50%;}#sk-container-id-2 div.sk-parallel-item:last-child::after {align-self: flex-start;width: 50%;}#sk-container-id-2 div.sk-parallel-item:only-child::after {width: 0;}#sk-container-id-2 div.sk-dashed-wrapped {border: 1px dashed gray;margin: 0 0.4em 0.5em 0.4em;box-sizing: border-box;padding-bottom: 0.4em;background-color: white;}#sk-container-id-2 div.sk-label label {font-family: monospace;font-weight: bold;display: inline-block;line-height: 1.2em;}#sk-container-id-2 div.sk-label-container {text-align: center;}#sk-container-id-2 div.sk-container {/* jupyter's `normalize.less` sets `[hidden] { display: none; }` but bootstrap.min.css set `[hidden] { display: none !important; }` so we also need the `!important` here to be able to override the default hidden behavior on the sphinx rendered scikit-learn.org. See: https://github.com/scikit-learn/scikit-learn/issues/21755 */display: inline-block !important;position: relative;}#sk-container-id-2 div.sk-text-repr-fallback {display: none;}</style><div id=\"sk-container-id-2\" class=\"sk-top-container\"><div class=\"sk-text-repr-fallback\"><pre>LogisticRegression()</pre><b>In a Jupyter environment, please rerun this cell to show the HTML representation or trust the notebook. <br />On GitHub, the HTML representation is unable to render, please try loading this page with nbviewer.org.</b></div><div class=\"sk-container\" hidden><div class=\"sk-item\"><div class=\"sk-estimator sk-toggleable\"><input class=\"sk-toggleable__control sk-hidden--visually\" id=\"sk-estimator-id-2\" type=\"checkbox\" checked><label for=\"sk-estimator-id-2\" class=\"sk-toggleable__label sk-toggleable__label-arrow\">LogisticRegression</label><div class=\"sk-toggleable__content\"><pre>LogisticRegression()</pre></div></div></div></div></div>"
      ],
      "text/plain": [
       "LogisticRegression()"
      ]
     },
     "execution_count": 21,
     "metadata": {},
     "output_type": "execute_result"
    }
   ],
   "source": [
    "lr_model = LogisticRegression()\n",
    "lr_model.fit(scX_train, y_train)"
   ]
  },
  {
   "cell_type": "code",
   "execution_count": 22,
   "id": "d4a32fda-b179-461e-8797-ff26a357b5c3",
   "metadata": {
    "tags": []
   },
   "outputs": [
    {
     "data": {
      "image/png": "[encoded data removed]",
      "text/plain": [
       "<Figure size 640x480 with 2 Axes>"
      ]
     },
     "metadata": {},
     "output_type": "display_data"
    }
   ],
   "source": [
    "ConfusionMatrixDisplay.from_estimator(lr_model, scaler.transform(X_test.values), y_test)\n",
    "plt.show()"
   ]
  },
  {
   "cell_type": "code",
   "execution_count": 23,
   "id": "6fd01ce4-4a95-48e9-bf85-0b64ad47daee",
   "metadata": {
    "tags": []
   },
   "outputs": [],
   "source": [
    "result = lr_model.predict(scaler.transform(X_test.values))\n",
    "result_prob = lr_model.predict_proba(scaler.transform(X_test.values)).round(3)"
   ]
  },
  {
   "cell_type": "code",
   "execution_count": 24,
   "id": "8ecd3178-c0c7-4195-a9fb-11142f59abd4",
   "metadata": {
    "tags": []
   },
   "outputs": [],
   "source": [
    "def evaluate(scaler, model, query):\n",
    "    d = {\"claimed\": [], \"claimed_prob\": [], \"predict\":[], \"predict_prob\":[], \"status\":[]}\n",
    "    \n",
    "    for q in query:\n",
    "        claimed = q[0]\n",
    "        profile = np.array(q[1:]).reshape(1,-1)\n",
    "        scX = scaler.transform(profile)\n",
    "\n",
    "        predict = np.squeeze(model.predict(scX))\n",
    "        result = np.squeeze(model.predict_proba(scX))\n",
    "        predict_prob = np.squeeze(result[predict -1])\n",
    "        claimed_prob = result[claimed -1]\n",
    "        if claimed == predict and predict_prob > 0.85:\n",
    "            status = \"\"\n",
    "        else:\n",
    "            status = \"Warning\"\n",
    "\n",
    "        d[\"claimed\"].append(claimed)\n",
    "        d[\"claimed_prob\"].append(claimed_prob)\n",
    "        d[\"predict\"].append(predict)\n",
    "        d[\"predict_prob\"].append(predict_prob)\n",
    "        d[\"status\"].append(status)\n",
    "        \n",
    "    return pd.DataFrame(d).round(3)"
   ]
  },
  {
   "cell_type": "code",
   "execution_count": 25,
   "id": "711177c5-dc67-4d6c-b6f0-52daaa63310c",
   "metadata": {
    "tags": []
   },
   "outputs": [],
   "source": [
    "query = [[2, 966,57,240,7952,619,50,78,35], [1, 103,109,220,7335,1140,28,59,2], [3,1114,86,210,7359,1116,31,83,2], [2, 1166,97,272,6971,1390,20,83,3]]"
   ]
  },
  {
   "cell_type": "code",
   "execution_count": 26,
   "id": "f4ce4065-cc4e-4353-bdbd-b5edea63cbbf",
   "metadata": {
    "tags": []
   },
   "outputs": [
    {
     "data": {
      "text/html": [
       "<div>\n",
       "<style scoped>\n",
       "    .dataframe tbody tr th:only-of-type {\n",
       "        vertical-align: middle;\n",
       "    }\n",
       "\n",
       "    .dataframe tbody tr th {\n",
       "        vertical-align: top;\n",
       "    }\n",
       "\n",
       "    .dataframe thead th {\n",
       "        text-align: right;\n",
       "    }\n",
       "</style>\n",
       "<table border=\"1\" class=\"dataframe\">\n",
       "  <thead>\n",
       "    <tr style=\"text-align: right;\">\n",
       "      <th></th>\n",
       "      <th>claimed</th>\n",
       "      <th>claimed_prob</th>\n",
       "      <th>predict</th>\n",
       "      <th>predict_prob</th>\n",
       "      <th>status</th>\n",
       "    </tr>\n",
       "  </thead>\n",
       "  <tbody>\n",
       "    <tr>\n",
       "      <th>0</th>\n",
       "      <td>2</td>\n",
       "      <td>0.017</td>\n",
       "      <td>1</td>\n",
       "      <td>0.885</td>\n",
       "      <td>Warning</td>\n",
       "    </tr>\n",
       "    <tr>\n",
       "      <th>1</th>\n",
       "      <td>1</td>\n",
       "      <td>0.003</td>\n",
       "      <td>2</td>\n",
       "      <td>0.958</td>\n",
       "      <td>Warning</td>\n",
       "    </tr>\n",
       "    <tr>\n",
       "      <th>2</th>\n",
       "      <td>3</td>\n",
       "      <td>0.116</td>\n",
       "      <td>2</td>\n",
       "      <td>0.785</td>\n",
       "      <td>Warning</td>\n",
       "    </tr>\n",
       "    <tr>\n",
       "      <th>3</th>\n",
       "      <td>2</td>\n",
       "      <td>0.931</td>\n",
       "      <td>2</td>\n",
       "      <td>0.931</td>\n",
       "      <td></td>\n",
       "    </tr>\n",
       "  </tbody>\n",
       "</table>\n",
       "</div>"
      ],
      "text/plain": [
       "   claimed  claimed_prob predict  predict_prob   status\n",
       "0        2         0.017       1         0.885  Warning\n",
       "1        1         0.003       2         0.958  Warning\n",
       "2        3         0.116       2         0.785  Warning\n",
       "3        2         0.931       2         0.931         "
      ]
     },
     "execution_count": 26,
     "metadata": {},
     "output_type": "execute_result"
    }
   ],
   "source": [
    "result = evaluate(scaler, lr_model, query)\n",
    "result"
   ]
  }
 ],
 "metadata": {
  "kernelspec": {
   "display_name": "Python 3 (ipykernel)",
   "language": "python",
   "name": "python3"
  },
  "language_info": {
   "codemirror_mode": {
    "name": "ipython",
    "version": 3
   },
   "file_extension": ".py",
   "mimetype": "text/x-python",
   "name": "python",
   "nbconvert_exporter": "python",
   "pygments_lexer": "ipython3",
   "version": "3.11.9"
  }
 },
 "nbformat": 4,
 "nbformat_minor": 5
}
